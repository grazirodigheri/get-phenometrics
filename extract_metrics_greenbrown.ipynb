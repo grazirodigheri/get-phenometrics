{
 "cells": [
  {
   "cell_type": "code",
   "execution_count": 12,
   "metadata": {
    "vscode": {
     "languageId": "r"
    }
   },
   "outputs": [],
   "source": [
    "#\n",
    "# This function requires the \\CRANpkg{greenbrown} package develope by Forkel et al. (2015) \n",
    "# \n",
    "# install.packages(\"greenbrown\", repos=\"http://R-Forge.R-project.org\")\n",
    "#\n",
    "# @title Get phenological metrics data using greenbrown package\n",
    "# \n",
    "# ------------------------------------------------------------\n",
    "# Função greenbrown\n",
    "\n",
    "library(\"greenbrown\")\n",
    "\n",
    "extract_metrics_greenbrown <- function(serie, method, trs_sos, trs_eos, plotT){\n",
    "    \n",
    "#     if(!requireNamespace(\"greenbrown\", quietly = TRUE)){\n",
    "#     warning(\"The greenbrown package is required for this function\")\n",
    "#     return(NULL)\n",
    "#     }\n",
    "    \n",
    "    \n",
    "    if (method == \"deriv\"){\n",
    "        metrics <- greenbrown::PhenoDeriv(\n",
    "            serie, \n",
    "            min.mean = 0.1, \n",
    "            calc.pheno = TRUE, \n",
    "            plot=plotT)\n",
    "        metrics <- data.frame(t(metrics))[,c(\"sos\",\"eos\")]\n",
    "    }\n",
    "    else if (method == \"white\"){\n",
    "        metrics <- greenbrown::PhenoTrs(\n",
    "            serie, \n",
    "            approach = \"White\", \n",
    "            min.mean = 0.1, \n",
    "            calc.pheno = TRUE, \n",
    "            plot=plotT\n",
    "        )\n",
    "        metrics <- data.frame(t(metrics))[,c(\"sos\",\"eos\")]\n",
    "    }\n",
    "    else if (method == \"trs\"){\n",
    "        metrics_sos <- greenbrown::PhenoTrs(\n",
    "            serie, \n",
    "            approach = \"Trs\", \n",
    "            trs = trs_sos,\n",
    "            min.mean = 0.1, \n",
    "            calc.pheno = TRUE, \n",
    "            plot=plotT\n",
    "        )\n",
    "        metrics_sos <- data.frame(t(metrics_sos))[,c(\"sos\",\"eos\")]\n",
    "        \n",
    "        metrics_eos <- greenbrown::PhenoTrs(\n",
    "            serie, \n",
    "            approach = \"Trs\", \n",
    "            trs = trs_eos,\n",
    "            min.mean = 0.1, \n",
    "            calc.pheno = TRUE, \n",
    "            plot=plotT\n",
    "        )\n",
    "        metrics_eos <- data.frame(t(metrics_eos))[,c(\"sos\",\"eos\")]\n",
    "        \n",
    "        metrics <- data.frame(sos=metrics_sos$sos, eos=metrics_eos$eos)\n",
    "    }\n",
    "    else{\n",
    "        print(\"INCORRECT METHOD\")\n",
    "    }\n",
    "    \n",
    "    metrics$sos <- round(metrics$sos)\n",
    "    metrics$eos <- round(metrics$eos)\n",
    "  \n",
    "    return(metrics)\n",
    "}"
   ]
  },
  {
   "cell_type": "code",
   "execution_count": null,
   "metadata": {
    "vscode": {
     "languageId": "r"
    }
   },
   "outputs": [],
   "source": []
  }
 ],
 "metadata": {
  "kernelspec": {
   "display_name": "R",
   "language": "R",
   "name": "ir"
  },
  "language_info": {
   "codemirror_mode": "r",
   "file_extension": ".r",
   "mimetype": "text/x-r-source",
   "name": "R",
   "pygments_lexer": "r",
   "version": "4.2.2"
  }
 },
 "nbformat": 4,
 "nbformat_minor": 4
}
