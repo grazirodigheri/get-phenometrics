{
 "cells": [
  {
   "cell_type": "markdown",
   "metadata": {},
   "source": [
    "# timesat function"
   ]
  },
  {
   "cell_type": "code",
   "execution_count": 7,
   "metadata": {
    "vscode": {
     "languageId": "r"
    }
   },
   "outputs": [],
   "source": [
    "#\n",
    "# This function requires the \\CRANpkg{rTIMESAT} package develope by Kong et al., (2021)\n",
    "# \n",
    "# devtools::install_github(\"kongdd/rTIMESAT\")\n",
    "#\n",
    "# @title Get phenological metrics data using rTIMESAT package\n",
    "# \n",
    "# ------------------------------------------------------------\n",
    "# Função TIMESAT\n",
    "\n",
    "library(\"rTIMESAT\")\n",
    "\n",
    "extract_metrics_timesat <- function(serie, trs) {\n",
    "\n",
    "#     if(!requireNamespace(\"rTIMESAT\", quietly = TRUE)){\n",
    "#     warning(\"The rTIMESAT package is required for this function\")\n",
    "#     return(NULL)\n",
    "#     }\n",
    "    \n",
    "    # Extrai as métricas phenológicas da série temporal\n",
    "    \n",
    "    ## 1. TIMESAT options\n",
    "    options_TM <- list(\n",
    "        ylu                 = c(0, 0.999),    # Valid data range (lower upper)\n",
    "        qc_1                = c(0, 0, 1),     # Quality range 1 and weight\n",
    "        qc_2                = c(1, 1, 0.5),   # Quality range 2 and weight\n",
    "        qc_3                = c(2, 3, 0.2),   # Quality range 3 and weight\n",
    "        A                   = 0,              # Amplitude cutoff value\n",
    "        debug               = 3,\n",
    "        output_type         = c(1, 1, 0),     # Output files (1/0 1/0 1/0), 1: seasonality data; 2: smoothed time-series; 3: original time-series\n",
    "        seasonpar           = 0,              # Seasonality parameter (0-1)\n",
    "        iters               = 2,              # No. of envelope iterations (3/2/1)\n",
    "        #   FUN                 = 1,              # Fitting method (1/2/3): (SG/AG/DL)\n",
    "        #   half_win            = 7,              # half Window size for Sav-Gol.\n",
    "        meth_pheno          = 1,              # (1: seasonal amplitude, 2: absolute value, 3: relative amplitude, 4: STL trend)\n",
    "        trs                 = trs             # Season start / end values\n",
    "    )\n",
    "    \n",
    "    rept <- 2\n",
    "    ts_rep <- rep(serie, rept)\n",
    "    \n",
    "    nptperyear <- length(ts_rep)\n",
    "    \n",
    "    SummaryQA <- rep(0, nptperyear)\n",
    "    \n",
    "    df_iv <- data.frame(\n",
    "        IV <- ts_rep,\n",
    "        SummaryQA <- SummaryQA\n",
    "    )\n",
    "    \n",
    "    extract_TM <- TSF_main(\n",
    "        y = df_iv$IV,\n",
    "        qc = df_iv$SummaryQA,\n",
    "        nptperyear = nptperyear/rept,\n",
    "        options = options_TM,\n",
    "        cache = F,\n",
    "        t = NULL)\n",
    "    \n",
    "    metrics_TM <- extract_TM$pheno %>%\n",
    "        as.data.frame() \n",
    "        \n",
    "    metrics <- metrics_TM[, c(\"time_start\", \"time_end\")]\n",
    "    names(metrics) = c(\"TM_sos\", \"TM_eos\")\n",
    "    metrics$TM_sos <- round(metrics$TM_sos, 0)\n",
    "    metrics$TM_eos <- round(metrics$TM_eos, 0)\n",
    "    \n",
    "    len <- length(serie)\n",
    "#     print(metrics)\n",
    "    \n",
    "    metrics <- metrics %>% \n",
    "        dplyr::mutate(TM_sos = ifelse(TM_sos > len, TM_sos-len, TM_sos)) %>%\n",
    "        dplyr::mutate(TM_eos = ifelse(TM_eos > len, TM_eos-len, TM_eos)) %>%\n",
    "        dplyr::arrange(TM_sos) %>%\n",
    "        dplyr::filter(TM_sos > 0)\n",
    "    \n",
    "    if(nrow(metrics)==0){\n",
    "        metrics <- data.frame(TM_sos=as.numeric(NA), TM_eos=as.numeric(NA))\n",
    "    }\n",
    "    else {\n",
    "        metrics <- metrics %>% dplyr::slice(1L)\n",
    "    }\n",
    "        \n",
    "    return (metrics)\n",
    "}"
   ]
  },
  {
   "cell_type": "code",
   "execution_count": null,
   "metadata": {
    "vscode": {
     "languageId": "r"
    }
   },
   "outputs": [],
   "source": []
  }
 ],
 "metadata": {
  "kernelspec": {
   "display_name": "R",
   "language": "R",
   "name": "ir"
  },
  "language_info": {
   "codemirror_mode": "r",
   "file_extension": ".r",
   "mimetype": "text/x-r-source",
   "name": "R",
   "pygments_lexer": "r",
   "version": "4.2.2"
  }
 },
 "nbformat": 4,
 "nbformat_minor": 4
}
