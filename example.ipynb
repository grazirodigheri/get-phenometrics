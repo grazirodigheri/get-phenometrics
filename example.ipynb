{
 "cells": [
  {
   "cell_type": "markdown",
   "metadata": {},
   "source": [
    "<img src=\"https://logodownload.org/wp-content/uploads/2019/10/inpe-logo.png\" align=\"left\" width=\"54\"/>\n",
    "<img src=\"https://i1.rgstatic.net/ii/lab.file/AS%3A1014813043986433%401618961692303_xl\" align=\"right\" width=\"74\" />\n",
    "\n",
    "<h1 style=\"color:#336699; text-align: center\" >Extract Phenological Metrics</h1>\n",
    "<hr style=\"border:2px solid #0077b9;\">\n",
    "\n",
    "<br/>\n",
    "\n",
    "<div style=\"text-align: center;font-size: 90%;\">\n",
    "    Grazieli Rodigheri\n",
    "    <sup>\n",
    "        <a href=\"https://orcid.org/0000-0002-9916-1167\">\n",
    "            <i class=\"fab fa-lg fa-orcid\" style=\"color: #a6ce39\"></i>\n",
    "        </a>\n",
    "    </sup>\n",
    "    <br/>\n",
    "    <br/>\n",
    "    Remote Sensing Postgraduate Program (PGSER), National Institute for Space Research (INPE)\n",
    "    <br/>\n",
    "    <br/>\n",
    "    Contact: \n",
    "    <a href=\"mailto:grazielirodigheri@gmail.com\">grazielirodigheri@gmail.com</a>\n",
    "    <br/>\n",
    "    <br/>\n",
    "    <div style=\"width: 98%;\">\n",
    "        <div style=\"text-align: justify; border-style: solid; border-color: #0077b9; border-width: 1px; padding: 10px;\">\n",
    "            <b>This code is associated to the paper:</b>\n",
    "            <div>\n",
    "                Grazieli Rodigheri, Ieda Del’Arco Sanches, Jonathan Richetti, Rodrigo Yoiti Tsukahara, Roger Lawes, Hugo do Nascimento Bendini, Marcos Adami. <a href=\"https://www.mdpi.com/2072-4292/15/22/5366\" target=\"_blank\">Estimating Crop Sowing and Harvesting Dates Using Satellite Vegetation Index: A Comparative Analysis</a>, <i> Remote Sensing</i>, 15(22), 5366, 2023.\n",
    "            </div>\n",
    "        </div>\n",
    "    </div>\n",
    "</div>"
   ]
  },
  {
   "cell_type": "markdown",
   "metadata": {},
   "source": [
    "<hr style=\"border:1px solid #0077b9;\">\n",
    "\n",
    "### Load libraries"
   ]
  },
  {
   "cell_type": "code",
   "execution_count": 1,
   "metadata": {
    "vscode": {
     "languageId": "r"
    }
   },
   "outputs": [
    {
     "name": "stderr",
     "output_type": "stream",
     "text": [
      "Warning message:\n",
      "\"package 'dplyr' was built under R version 4.2.3\"\n",
      "\n",
      "Attaching package: 'dplyr'\n",
      "\n",
      "\n",
      "The following objects are masked from 'package:stats':\n",
      "\n",
      "    filter, lag\n",
      "\n",
      "\n",
      "The following objects are masked from 'package:base':\n",
      "\n",
      "    intersect, setdiff, setequal, union\n",
      "\n",
      "\n",
      "Warning message:\n",
      "\"package 'ggplot2' was built under R version 4.2.3\"\n"
     ]
    }
   ],
   "source": [
    "library(\"dplyr\")\n",
    "library(\"ggplot2\")"
   ]
  },
  {
   "cell_type": "markdown",
   "metadata": {},
   "source": [
    "<hr style=\"border:1px solid #0077b9;\">\n",
    "\n",
    "### Import pre-processing and extract functions"
   ]
  },
  {
   "cell_type": "code",
   "execution_count": 2,
   "metadata": {
    "vscode": {
     "languageId": "r"
    }
   },
   "outputs": [
    {
     "name": "stderr",
     "output_type": "stream",
     "text": [
      "Carregando pacotes exigidos: foreign\n",
      "\n",
      "Carregando pacotes exigidos: raster\n",
      "\n",
      "Warning message:\n",
      "\"package 'raster' was built under R version 4.2.3\"\n",
      "Carregando pacotes exigidos: sp\n",
      "\n",
      "Warning message:\n",
      "\"package 'sp' was built under R version 4.2.3\"\n",
      "\n",
      "Attaching package: 'raster'\n",
      "\n",
      "\n",
      "The following object is masked from 'package:dplyr':\n",
      "\n",
      "    select\n",
      "\n",
      "\n",
      "Carregando pacotes exigidos: maptools\n",
      "\n",
      "Checking rgeos availability: TRUE\n",
      "Please note that 'maptools' will be retired during 2023,\n",
      "plan transition at your earliest convenience;\n",
      "some functionality will be moved to 'sp'.\n",
      "\n",
      "Carregando pacotes exigidos: shapefiles\n",
      "\n",
      "\n",
      "Attaching package: 'shapefiles'\n",
      "\n",
      "\n",
      "The following objects are masked from 'package:foreign':\n",
      "\n",
      "    read.dbf, write.dbf\n",
      "\n",
      "\n",
      "Carregando pacotes exigidos: rgdal\n",
      "\n",
      "Please note that rgdal will be retired during 2023,\n",
      "plan transition to sf/stars/terra functions using GDAL and PROJ\n",
      "at your earliest convenience.\n",
      "See https://r-spatial.org/r/2022/04/12/evolution.html and https://github.com/r-spatial/evolution\n",
      "rgdal: version: 1.6-3, (SVN revision 1187)\n",
      "Geospatial Data Abstraction Library extensions to R successfully loaded\n",
      "Loaded GDAL runtime: GDAL 3.5.2, released 2022/09/02\n",
      "Path to GDAL shared files: C:/Users/grazi/AppData/Local/R/win-library/4.2/rgdal/gdal\n",
      "GDAL binary built with GEOS: TRUE \n",
      "Loaded PROJ runtime: Rel. 8.2.1, January 1st, 2022, [PJ_VERSION: 821]\n",
      "Path to PROJ shared files: C:/Users/grazi/AppData/Local/R/win-library/4.2/rgdal/proj\n",
      "PROJ CDN enabled: FALSE\n",
      "Linking to sp version:1.5-1\n",
      "To mute warnings of possible GDAL/OSR exportToProj4() degradation,\n",
      "use options(\"rgdal_show_exportToProj4_warnings\"=\"none\") before loading sp or rgdal.\n",
      "\n",
      "Carregando pacotes exigidos: Rcpp\n",
      "\n",
      "Warning message:\n",
      "\"package 'Rcpp' was built under R version 4.2.3\"\n",
      "Carregando pacotes exigidos: rgeos\n",
      "\n",
      "rgeos version: 0.6-1, (SVN revision 692)\n",
      " GEOS runtime version: 3.9.3-CAPI-1.14.3 \n",
      " Please note that rgeos will be retired during 2023,\n",
      "plan transition to sf functions using GEOS at your earliest convenience.\n",
      " GEOS using OverlayNG\n",
      " Linking to sp version: 1.5-1 \n",
      " Polygon checking: TRUE \n",
      "\n",
      "\n",
      "\n",
      "Attaching package: 'rgeos'\n",
      "\n",
      "\n",
      "The following object is masked from 'package:dplyr':\n",
      "\n",
      "    symdiff\n",
      "\n",
      "\n",
      "Carregando pacotes exigidos: roxygen2\n",
      "\n",
      "Warning message:\n",
      "\"package 'roxygen2' was built under R version 4.2.3\"\n",
      "Carregando pacotes exigidos: sf\n",
      "\n",
      "Warning message:\n",
      "\"package 'sf' was built under R version 4.2.3\"\n",
      "Linking to GEOS 3.9.3, GDAL 3.5.2, PROJ 8.2.1; sf_use_s2() is TRUE\n",
      "\n",
      "Carregando pacotes exigidos: strucchange\n",
      "\n",
      "Carregando pacotes exigidos: zoo\n",
      "\n",
      "\n",
      "Attaching package: 'zoo'\n",
      "\n",
      "\n",
      "The following objects are masked from 'package:base':\n",
      "\n",
      "    as.Date, as.Date.numeric\n",
      "\n",
      "\n",
      "Carregando pacotes exigidos: sandwich\n",
      "\n",
      "Registered S3 method overwritten by 'quantmod':\n",
      "  method            from\n",
      "  as.zoo.data.frame zoo \n",
      "\n",
      "Registered S3 methods overwritten by 'strucchangeRcpp':\n",
      "  method                        from       \n",
      "  plot.efp                      strucchange\n",
      "  print.efp                     strucchange\n",
      "  lines.efp                     strucchange\n",
      "  print.gefp                    strucchange\n",
      "  plot.gefp                     strucchange\n",
      "  time.gefp                     strucchange\n",
      "  plot.Fstats                   strucchange\n",
      "  print.Fstats                  strucchange\n",
      "  lines.Fstats                  strucchange\n",
      "  plot.mefp                     strucchange\n",
      "  print.mefp                    strucchange\n",
      "  lines.mefp                    strucchange\n",
      "  print.breakpoints             strucchange\n",
      "  lines.breakpoints             strucchange\n",
      "  logLik.breakpoints            strucchange\n",
      "  summary.breakpoints           strucchange\n",
      "  logLik.breakpointsfull        strucchange\n",
      "  AIC.breakpointsfull           strucchange\n",
      "  summary.breakpointsfull       strucchange\n",
      "  plot.breakpointsfull          strucchange\n",
      "  confint.breakpointsfull       strucchange\n",
      "  coef.breakpointsfull          strucchange\n",
      "  vcov.breakpointsfull          strucchange\n",
      "  fitted.breakpointsfull        strucchange\n",
      "  residuals.breakpointsfull     strucchange\n",
      "  df.residual.breakpointsfull   strucchange\n",
      "  plot.summary.breakpointsfull  strucchange\n",
      "  print.summary.breakpointsfull strucchange\n",
      "  print.confint.breakpoints     strucchange\n",
      "  lines.confint.breakpoints     strucchange\n",
      "\n",
      "\n",
      "Attaching package: 'phenex'\n",
      "\n",
      "\n",
      "The following object is masked from 'package:raster':\n",
      "\n",
      "    values\n",
      "\n",
      "\n",
      "Warning message:\n",
      "\"package 'phenofit' was built under R version 4.2.3\"\n",
      "\n",
      "Attaching package: 'phenofit'\n",
      "\n",
      "\n",
      "The following object is masked from 'package:phenex':\n",
      "\n",
      "    date2doy\n",
      "\n",
      "\n",
      "The following objects are masked from 'package:greenbrown':\n",
      "\n",
      "    PhenoDeriv, PhenoTrs\n",
      "\n",
      "\n",
      "\n",
      "Attaching package: 'signal'\n",
      "\n",
      "\n",
      "The following object is masked from 'package:raster':\n",
      "\n",
      "    resample\n",
      "\n",
      "\n",
      "The following object is masked from 'package:dplyr':\n",
      "\n",
      "    filter\n",
      "\n",
      "\n",
      "The following objects are masked from 'package:stats':\n",
      "\n",
      "    filter, poly\n",
      "\n",
      "\n",
      "\n",
      "Attaching package: 'imputeTS'\n",
      "\n",
      "\n",
      "The following object is masked from 'package:zoo':\n",
      "\n",
      "    na.locf\n",
      "\n",
      "\n"
     ]
    }
   ],
   "source": [
    "# Import extract functions\n",
    "source(\"R/get_phenometrics.R\")\n",
    "\n",
    "# Import mutate functions\n",
    "source(\"R/preprocessing_functions.R\")"
   ]
  },
  {
   "cell_type": "markdown",
   "metadata": {},
   "source": [
    "<hr style=\"border:1px solid #0077b9;\">\n",
    "\n",
    "### Define example time-series"
   ]
  },
  {
   "cell_type": "code",
   "execution_count": 3,
   "metadata": {
    "vscode": {
     "languageId": "r"
    }
   },
   "outputs": [],
   "source": [
    "# Examples series MOD13Q1\n",
    "serie_MOD13_ex1 <- c(0.378, 0.348, 0.346, NA, 0.374, 0.291, 0.406, 0.598, 0.829, 0.92, 0.937, NA, 0.401, 0.325, 0.461, 0.609, 0.738)\n",
    "\n",
    "serie_MOD13_ex2 <- c(0.301, 0.309, 0.388, 0.635, 0.74, 0.9, 0.882, 0.508, NA, 0.367, 0.622, 0.838, 0.846, 0.749, 0.353, 0.31, 0.299)\n",
    "\n",
    "serie_MOD13_ex3 <- c(0.689, 0.632, 0.39, 0.296, 0.298, 0.564, 0.81, NA, NA, 0.919, 0.914, 0.811, 0.661, 0.456, 0.518, 0.5, 0.507)\n",
    "\n",
    "# Examples series Sentinel-2\n",
    "serie_S2_ex1 <- c(0.257, 0.249, 0.265, 0.262, 0.145, 0.269, 0.277, 0.278, 0.278, 0.276, NA, 0.074, NA, NA, 0.281, 0.266, NA, NA, 0.218, 0.211, 0.198, NA, NA, NA, 0.119, 0.146, 0.13, 0.124, 0.173, 0.149, 0.129, 0.134, NA, NA, 0.191, NA, NA, 0.23, NA, NA, NA, 0.208, NA, NA, 0.622, NA, 0.631, NA, NA, 0.861, NA, NA, NA, NA, 0.912, 0.933, 0.927, NA, NA, NA, NA, NA, NA, 0.904, NA, NA, NA, NA, 0.757, NA, NA, NA, 0.449, NA, 0.175, NA, NA, -0.073, 0.138, 0.112, NA, NA, 0.202, NA, NA, NA, 0.433, 0.542, 0.547, NA, NA, NA, NA, 0.8, 0.872, 0.646, 0.62, 0.903, 0.904, 0.906, NA, NA, NA)\n",
    "\n",
    "serie_S2_ex2 <- c(0.345, NA, NA, NA, NA, 0.261, 0.217, 0.197, 0.204, NA, NA, NA, 0.281, 0.279, NA, 0.294, NA, 0.389, 0.368, NA, 0.582, NA, NA, 0.771, 0.762, 0.847, NA, 0.914, NA, 0.907, NA, NA, 0.833, 0.93, 0.924, NA, NA, NA, 0.913, NA, NA, NA, 0.799, NA, NA, NA, NA, NA, 0.271, 0.203, 0.18, NA, 0.173, 0.273, NA, NA, 0.36, NA, 0.401, NA, 0.525, NA, NA, NA, NA, 0.733, 0.329, 0.872, NA, 0.909, 0.898, NA, 0.918, 0.94, 0.823, NA, 0.721, 0.911, 0.934, 0.931, 0.935, NA, 0.801, 0.839, 0.925, NA, 0.84, NA, 0.88, NA, 0.733, 0.617, NA, 0.414, 0.34, 0.315, 0.244, 0.219, 0.227, 0.231, 0.231, 0.241, 0.245)\n",
    "\n",
    "\n",
    "serie <- serie_MOD13_ex1"
   ]
  },
  {
   "cell_type": "markdown",
   "metadata": {},
   "source": [
    "<hr style=\"border:1px solid #0077b9;\">\n",
    "\n",
    "### Pre-processing serie"
   ]
  },
  {
   "cell_type": "code",
   "execution_count": 60,
   "metadata": {
    "vscode": {
     "languageId": "r"
    }
   },
   "outputs": [
    {
     "data": {
      "text/html": [
       "<table class=\"dataframe\">\n",
       "<caption>A data.frame: 6 × 4</caption>\n",
       "<thead>\n",
       "\t<tr><th></th><th scope=col>raw</th><th scope=col>date</th><th scope=col>interpolated</th><th scope=col>smoothed</th></tr>\n",
       "\t<tr><th></th><th scope=col>&lt;dbl&gt;</th><th scope=col>&lt;int&gt;</th><th scope=col>&lt;dbl&gt;</th><th scope=col>&lt;dbl&gt;</th></tr>\n",
       "</thead>\n",
       "<tbody>\n",
       "\t<tr><th scope=row>1</th><td>0.378</td><td>1</td><td>0.378</td><td>0.3752571</td></tr>\n",
       "\t<tr><th scope=row>2</th><td>0.348</td><td>2</td><td>0.348</td><td>0.3533714</td></tr>\n",
       "\t<tr><th scope=row>3</th><td>0.346</td><td>3</td><td>0.346</td><td>0.3463429</td></tr>\n",
       "\t<tr><th scope=row>4</th><td>   NA</td><td>4</td><td>0.360</td><td>0.3669429</td></tr>\n",
       "\t<tr><th scope=row>5</th><td>0.374</td><td>5</td><td>0.374</td><td>0.3404000</td></tr>\n",
       "\t<tr><th scope=row>6</th><td>0.291</td><td>6</td><td>0.291</td><td>0.3266571</td></tr>\n",
       "</tbody>\n",
       "</table>\n"
      ],
      "text/latex": [
       "A data.frame: 6 × 4\n",
       "\\begin{tabular}{r|llll}\n",
       "  & raw & date & interpolated & smoothed\\\\\n",
       "  & <dbl> & <int> & <dbl> & <dbl>\\\\\n",
       "\\hline\n",
       "\t1 & 0.378 & 1 & 0.378 & 0.3752571\\\\\n",
       "\t2 & 0.348 & 2 & 0.348 & 0.3533714\\\\\n",
       "\t3 & 0.346 & 3 & 0.346 & 0.3463429\\\\\n",
       "\t4 &    NA & 4 & 0.360 & 0.3669429\\\\\n",
       "\t5 & 0.374 & 5 & 0.374 & 0.3404000\\\\\n",
       "\t6 & 0.291 & 6 & 0.291 & 0.3266571\\\\\n",
       "\\end{tabular}\n"
      ],
      "text/markdown": [
       "\n",
       "A data.frame: 6 × 4\n",
       "\n",
       "| <!--/--> | raw &lt;dbl&gt; | date &lt;int&gt; | interpolated &lt;dbl&gt; | smoothed &lt;dbl&gt; |\n",
       "|---|---|---|---|---|\n",
       "| 1 | 0.378 | 1 | 0.378 | 0.3752571 |\n",
       "| 2 | 0.348 | 2 | 0.348 | 0.3533714 |\n",
       "| 3 | 0.346 | 3 | 0.346 | 0.3463429 |\n",
       "| 4 |    NA | 4 | 0.360 | 0.3669429 |\n",
       "| 5 | 0.374 | 5 | 0.374 | 0.3404000 |\n",
       "| 6 | 0.291 | 6 | 0.291 | 0.3266571 |\n",
       "\n"
      ],
      "text/plain": [
       "  raw   date interpolated smoothed \n",
       "1 0.378 1    0.378        0.3752571\n",
       "2 0.348 2    0.348        0.3533714\n",
       "3 0.346 3    0.346        0.3463429\n",
       "4    NA 4    0.360        0.3669429\n",
       "5 0.374 5    0.374        0.3404000\n",
       "6 0.291 6    0.291        0.3266571"
      ]
     },
     "metadata": {},
     "output_type": "display_data"
    }
   ],
   "source": [
    "pp_df <- data.frame(raw = serie) %>%\n",
    "    mutate(date = 1:length(raw)) %>%\n",
    "    mutate(interpolated = func_int(raw)) %>%\n",
    "    mutate(smoothed = func_sg(interpolated))\n",
    "    # tidyr::pivot_longer(cols = !c(date, raw), names_to=\"variable\", values_to = \"value\")\n",
    "\n",
    "head(pp_df)"
   ]
  },
  {
   "cell_type": "code",
   "execution_count": 72,
   "metadata": {
    "vscode": {
     "languageId": "r"
    }
   },
   "outputs": [
    {
     "name": "stderr",
     "output_type": "stream",
     "text": [
      "Warning message:\n",
      "\"\u001b[1m\u001b[22mRemoved 2 rows containing missing values (`geom_point()`).\"\n"
     ]
    },
    {
     "data": {
      "image/png": "[encoded data removed]",
      "text/plain": [
       "plot without title"
      ]
     },
     "metadata": {
      "image/png": {
       "height": 360,
       "width": 600
      }
     },
     "output_type": "display_data"
    }
   ],
   "source": [
    "# Plot pre-processed time-series\n",
    "options(repr.plot.width = 10, repr.plot.height = 6)\n",
    "\n",
    "ggplot(data = pp_df) +\n",
    "    geom_point(\n",
    "        aes(x = date, y = raw, colour = \"raw\"), \n",
    "        color=\"red\", \n",
    "        size=5\n",
    "    ) +\n",
    "    geom_line(\n",
    "        aes(x = date, y = interpolated, colour = \"interpolated\"), \n",
    "        linetype=\"dotted\", \n",
    "        color=\"black\", \n",
    "        lwd=1\n",
    "    ) +\n",
    "    geom_line(\n",
    "        aes(x = date, y = smoothed, colour = \"smoothed\"), \n",
    "        lwd=1, \n",
    "        color=\"darkgreen\"\n",
    "    ) +\n",
    "    scale_colour_viridis_d(\n",
    "        name = \"Legend:\", \n",
    "        option = \"turbo\"\n",
    "    ) +\n",
    "    theme_bw() +\n",
    "    labs(\n",
    "        x = \"Date\", \n",
    "        y = \"VI\"\n",
    "    ) +\n",
    "    theme(\n",
    "        text = element_text(size = 20),\n",
    "        legend.position = 'bottom'\n",
    "    )"
   ]
  },
  {
   "cell_type": "markdown",
   "metadata": {},
   "source": [
    "<hr style=\"border:1px solid #0077b9;\">\n",
    "\n",
    "### Extract metrics"
   ]
  },
  {
   "cell_type": "code",
   "execution_count": 73,
   "metadata": {
    "vscode": {
     "languageId": "r"
    }
   },
   "outputs": [],
   "source": [
    "# Get the smoothed time-serie\n",
    "smoothed <- pp_df$smoothed"
   ]
  },
  {
   "cell_type": "code",
   "execution_count": 74,
   "metadata": {
    "vscode": {
     "languageId": "r"
    }
   },
   "outputs": [
    {
     "data": {
      "text/html": [
       "<table class=\"dataframe\">\n",
       "<caption>A data.frame: 1 × 2</caption>\n",
       "<thead>\n",
       "\t<tr><th scope=col>CP_sos</th><th scope=col>CP_eos</th></tr>\n",
       "\t<tr><th scope=col>&lt;dbl&gt;</th><th scope=col>&lt;dbl&gt;</th></tr>\n",
       "</thead>\n",
       "<tbody>\n",
       "\t<tr><td>6</td><td>14</td></tr>\n",
       "</tbody>\n",
       "</table>\n"
      ],
      "text/latex": [
       "A data.frame: 1 × 2\n",
       "\\begin{tabular}{ll}\n",
       " CP\\_sos & CP\\_eos\\\\\n",
       " <dbl> & <dbl>\\\\\n",
       "\\hline\n",
       "\t 6 & 14\\\\\n",
       "\\end{tabular}\n"
      ],
      "text/markdown": [
       "\n",
       "A data.frame: 1 × 2\n",
       "\n",
       "| CP_sos &lt;dbl&gt; | CP_eos &lt;dbl&gt; |\n",
       "|---|---|\n",
       "| 6 | 14 |\n",
       "\n"
      ],
      "text/plain": [
       "  CP_sos CP_eos\n",
       "1 6      14    "
      ]
     },
     "metadata": {},
     "output_type": "display_data"
    },
    {
     "data": {
      "text/html": [
       "<table class=\"dataframe\">\n",
       "<caption>A data.frame: 1 × 2</caption>\n",
       "<thead>\n",
       "\t<tr><th scope=col>GB_sos</th><th scope=col>GB_eos</th></tr>\n",
       "\t<tr><th scope=col>&lt;dbl&gt;</th><th scope=col>&lt;dbl&gt;</th></tr>\n",
       "</thead>\n",
       "<tbody>\n",
       "\t<tr><td>8</td><td>13</td></tr>\n",
       "</tbody>\n",
       "</table>\n"
      ],
      "text/latex": [
       "A data.frame: 1 × 2\n",
       "\\begin{tabular}{ll}\n",
       " GB\\_sos & GB\\_eos\\\\\n",
       " <dbl> & <dbl>\\\\\n",
       "\\hline\n",
       "\t 8 & 13\\\\\n",
       "\\end{tabular}\n"
      ],
      "text/markdown": [
       "\n",
       "A data.frame: 1 × 2\n",
       "\n",
       "| GB_sos &lt;dbl&gt; | GB_eos &lt;dbl&gt; |\n",
       "|---|---|\n",
       "| 8 | 13 |\n",
       "\n"
      ],
      "text/plain": [
       "  GB_sos GB_eos\n",
       "1 8      13    "
      ]
     },
     "metadata": {},
     "output_type": "display_data"
    },
    {
     "data": {
      "text/html": [
       "<table class=\"dataframe\">\n",
       "<caption>A data.frame: 1 × 2</caption>\n",
       "<thead>\n",
       "\t<tr><th scope=col>GB_sos</th><th scope=col>GB_eos</th></tr>\n",
       "\t<tr><th scope=col>&lt;dbl&gt;</th><th scope=col>&lt;dbl&gt;</th></tr>\n",
       "</thead>\n",
       "<tbody>\n",
       "\t<tr><td>NA</td><td>5</td></tr>\n",
       "</tbody>\n",
       "</table>\n"
      ],
      "text/latex": [
       "A data.frame: 1 × 2\n",
       "\\begin{tabular}{ll}\n",
       " GB\\_sos & GB\\_eos\\\\\n",
       " <dbl> & <dbl>\\\\\n",
       "\\hline\n",
       "\t NA & 5\\\\\n",
       "\\end{tabular}\n"
      ],
      "text/markdown": [
       "\n",
       "A data.frame: 1 × 2\n",
       "\n",
       "| GB_sos &lt;dbl&gt; | GB_eos &lt;dbl&gt; |\n",
       "|---|---|\n",
       "| NA | 5 |\n",
       "\n"
      ],
      "text/plain": [
       "  GB_sos GB_eos\n",
       "1 NA     5     "
      ]
     },
     "metadata": {},
     "output_type": "display_data"
    },
    {
     "data": {
      "text/html": [
       "<table class=\"dataframe\">\n",
       "<caption>A data.frame: 1 × 2</caption>\n",
       "<thead>\n",
       "\t<tr><th scope=col>GB_sos</th><th scope=col>GB_eos</th></tr>\n",
       "\t<tr><th scope=col>&lt;dbl&gt;</th><th scope=col>&lt;dbl&gt;</th></tr>\n",
       "</thead>\n",
       "<tbody>\n",
       "\t<tr><td>8</td><td>NA</td></tr>\n",
       "</tbody>\n",
       "</table>\n"
      ],
      "text/latex": [
       "A data.frame: 1 × 2\n",
       "\\begin{tabular}{ll}\n",
       " GB\\_sos & GB\\_eos\\\\\n",
       " <dbl> & <dbl>\\\\\n",
       "\\hline\n",
       "\t 8 & NA\\\\\n",
       "\\end{tabular}\n"
      ],
      "text/markdown": [
       "\n",
       "A data.frame: 1 × 2\n",
       "\n",
       "| GB_sos &lt;dbl&gt; | GB_eos &lt;dbl&gt; |\n",
       "|---|---|\n",
       "| 8 | NA |\n",
       "\n"
      ],
      "text/plain": [
       "  GB_sos GB_eos\n",
       "1 8      NA    "
      ]
     },
     "metadata": {},
     "output_type": "display_data"
    },
    {
     "data": {
      "text/html": [
       "<table class=\"dataframe\">\n",
       "<caption>A data.frame: 1 × 2</caption>\n",
       "<thead>\n",
       "\t<tr><th scope=col>PX_sos</th><th scope=col>PX_eos</th></tr>\n",
       "\t<tr><th scope=col>&lt;int&gt;</th><th scope=col>&lt;int&gt;</th></tr>\n",
       "</thead>\n",
       "<tbody>\n",
       "\t<tr><td>8</td><td>13</td></tr>\n",
       "</tbody>\n",
       "</table>\n"
      ],
      "text/latex": [
       "A data.frame: 1 × 2\n",
       "\\begin{tabular}{ll}\n",
       " PX\\_sos & PX\\_eos\\\\\n",
       " <int> & <int>\\\\\n",
       "\\hline\n",
       "\t 8 & 13\\\\\n",
       "\\end{tabular}\n"
      ],
      "text/markdown": [
       "\n",
       "A data.frame: 1 × 2\n",
       "\n",
       "| PX_sos &lt;int&gt; | PX_eos &lt;int&gt; |\n",
       "|---|---|\n",
       "| 8 | 13 |\n",
       "\n"
      ],
      "text/plain": [
       "  PX_sos PX_eos\n",
       "1 8      13    "
      ]
     },
     "metadata": {},
     "output_type": "display_data"
    },
    {
     "data": {
      "text/html": [
       "<table class=\"dataframe\">\n",
       "<caption>A data.frame: 1 × 2</caption>\n",
       "<thead>\n",
       "\t<tr><th scope=col>PF_sos</th><th scope=col>PF_eos</th></tr>\n",
       "\t<tr><th scope=col>&lt;dbl&gt;</th><th scope=col>&lt;dbl&gt;</th></tr>\n",
       "</thead>\n",
       "<tbody>\n",
       "\t<tr><td>6</td><td>14</td></tr>\n",
       "</tbody>\n",
       "</table>\n"
      ],
      "text/latex": [
       "A data.frame: 1 × 2\n",
       "\\begin{tabular}{ll}\n",
       " PF\\_sos & PF\\_eos\\\\\n",
       " <dbl> & <dbl>\\\\\n",
       "\\hline\n",
       "\t 6 & 14\\\\\n",
       "\\end{tabular}\n"
      ],
      "text/markdown": [
       "\n",
       "A data.frame: 1 × 2\n",
       "\n",
       "| PF_sos &lt;dbl&gt; | PF_eos &lt;dbl&gt; |\n",
       "|---|---|\n",
       "| 6 | 14 |\n",
       "\n"
      ],
      "text/plain": [
       "  PF_sos PF_eos\n",
       "1 6      14    "
      ]
     },
     "metadata": {},
     "output_type": "display_data"
    },
    {
     "data": {
      "text/html": [
       "<table class=\"dataframe\">\n",
       "<caption>A data.frame: 1 × 2</caption>\n",
       "<thead>\n",
       "\t<tr><th scope=col>PF_sos</th><th scope=col>PF_eos</th></tr>\n",
       "\t<tr><th scope=col>&lt;dbl&gt;</th><th scope=col>&lt;dbl&gt;</th></tr>\n",
       "</thead>\n",
       "<tbody>\n",
       "\t<tr><td>7</td><td>14</td></tr>\n",
       "</tbody>\n",
       "</table>\n"
      ],
      "text/latex": [
       "A data.frame: 1 × 2\n",
       "\\begin{tabular}{ll}\n",
       " PF\\_sos & PF\\_eos\\\\\n",
       " <dbl> & <dbl>\\\\\n",
       "\\hline\n",
       "\t 7 & 14\\\\\n",
       "\\end{tabular}\n"
      ],
      "text/markdown": [
       "\n",
       "A data.frame: 1 × 2\n",
       "\n",
       "| PF_sos &lt;dbl&gt; | PF_eos &lt;dbl&gt; |\n",
       "|---|---|\n",
       "| 7 | 14 |\n",
       "\n"
      ],
      "text/plain": [
       "  PF_sos PF_eos\n",
       "1 7      14    "
      ]
     },
     "metadata": {},
     "output_type": "display_data"
    },
    {
     "data": {
      "text/html": [
       "<table class=\"dataframe\">\n",
       "<caption>A data.frame: 1 × 2</caption>\n",
       "<thead>\n",
       "\t<tr><th scope=col>TM_sos</th><th scope=col>TM_eos</th></tr>\n",
       "\t<tr><th scope=col>&lt;dbl&gt;</th><th scope=col>&lt;dbl&gt;</th></tr>\n",
       "</thead>\n",
       "<tbody>\n",
       "\t<tr><td>7</td><td>12</td></tr>\n",
       "</tbody>\n",
       "</table>\n"
      ],
      "text/latex": [
       "A data.frame: 1 × 2\n",
       "\\begin{tabular}{ll}\n",
       " TM\\_sos & TM\\_eos\\\\\n",
       " <dbl> & <dbl>\\\\\n",
       "\\hline\n",
       "\t 7 & 12\\\\\n",
       "\\end{tabular}\n"
      ],
      "text/markdown": [
       "\n",
       "A data.frame: 1 × 2\n",
       "\n",
       "| TM_sos &lt;dbl&gt; | TM_eos &lt;dbl&gt; |\n",
       "|---|---|\n",
       "| 7 | 12 |\n",
       "\n"
      ],
      "text/plain": [
       "  TM_sos TM_eos\n",
       "1 7      12    "
      ]
     },
     "metadata": {},
     "output_type": "display_data"
    }
   ],
   "source": [
    "# Get metrics using CroPhenology example\n",
    "get_phenometrics(smoothed, \"CP\", c(20,30))\n",
    "\n",
    "# # Get metrics using DEA tools example\n",
    "# get_phenometrics(smoothed, \"DT\", c(\"first\", \"median\"))\n",
    "\n",
    "# Get metrics using greenbrown example\n",
    "get_phenometrics(smoothed, \"GB\", c(\"deriv\", NULL, NULL))\n",
    "get_phenometrics(smoothed, \"GB\", c(\"trs\", 0.20, 0.35))\n",
    "get_phenometrics(smoothed, \"GB\", c(\"white\", NULL, NULL))\n",
    "\n",
    "# Get metrics using phenex example\n",
    "get_phenometrics(smoothed, \"PX\", c(0.20,0.20))\n",
    "\n",
    "# Get metrics using phenofit example\n",
    "get_phenometrics(smoothed, \"PF\", c(\"deriv\", NULL, NULL))\n",
    "get_phenometrics(smoothed, \"PF\", c(\"trs\", 0.20, 0.35))\n",
    "\n",
    "# Get metrics using TIMESAT example\n",
    "get_phenometrics(smoothed, \"TM\", c(0.20,0.20))\n",
    "\n"
   ]
  },
  {
   "cell_type": "code",
   "execution_count": null,
   "metadata": {
    "vscode": {
     "languageId": "r"
    }
   },
   "outputs": [],
   "source": []
  }
 ],
 "metadata": {
  "kernelspec": {
   "display_name": "R",
   "language": "R",
   "name": "ir"
  },
  "language_info": {
   "codemirror_mode": "r",
   "file_extension": ".r",
   "mimetype": "text/x-r-source",
   "name": "R",
   "pygments_lexer": "r",
   "version": "4.2.2"
  }
 },
 "nbformat": 4,
 "nbformat_minor": 4
}
