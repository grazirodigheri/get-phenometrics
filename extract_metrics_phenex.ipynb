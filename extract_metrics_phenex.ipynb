{
 "cells": [
  {
   "cell_type": "markdown",
   "metadata": {},
   "source": [
    "# phenex function"
   ]
  },
  {
   "cell_type": "code",
   "execution_count": 9,
   "metadata": {
    "vscode": {
     "languageId": "r"
    }
   },
   "outputs": [],
   "source": [
    "#\n",
    "# This function requires the \\CRANpkg{phenex} package develope by Lange and Doktor, (2017)\n",
    "# \n",
    "# install.packages(\"phenex\")\n",
    "#\n",
    "# @title Get phenological metrics data using phenex package\n",
    "#\n",
    "# ------------------------------------------------------------\n",
    "# Função phenex\n",
    "\n",
    "library(\"phenex\")\n",
    "\n",
    "# Função recebe a série para extrair e os thresholds e retorna um df\n",
    "extract_metrics_phenex<- function(serie, trs_green, trs_sen){\n",
    "\n",
    "    \n",
    "#     if(!requireNamespace(\"phenex\", quietly = TRUE)){\n",
    "#     warning(\"The phenex package is required for this function\")\n",
    "#     return(NULL)\n",
    "#     }\n",
    "    \n",
    "    \n",
    "    # Create model with linear interpolation and none correction\n",
    "    modelo <- modelNDVI(ndvi.values=serie, year.int=1995, MARGIN=2, \n",
    "                      doParallel=FALSE, correction=\"none\", method=\"LinIP\")\n",
    "\n",
    "    # Greenup day\n",
    "    greenup <- phenoPhase(modelo[[1]], phase=\"greenup\", method=\"local\", threshold=trs_green, n=1000)\n",
    "\n",
    "    # Senescence day\n",
    "    senescence <- phenoPhase(modelo[[1]], phase=\"senescence\", method=\"local\", threshold=trs_sen, n=1000)\n",
    "\n",
    "#     # Max NDVI day\n",
    "#     maxndvi <- phenoPhase(modelo[[1]], phase=\"max\", n=1000)\n",
    "\n",
    "#     # GSIVI = Green Season Integrated Vegetation Index\n",
    "#     gsivi <- integrateTimeserie(modelo[[1]], start=greenup, end=senescence, n=1000)\n",
    "\n",
    "    # 'greenup','senescence','maxndvi','gsivi'\n",
    "    metrics_df <- data.frame(\n",
    "        greenup = greenup$mean,\n",
    "        senescence = senescence$mean\n",
    "#         maxndvi = maxndvi$mean,\n",
    "#         gsivi = gsivi$mean\n",
    "    )\n",
    "  \n",
    "    return(metrics_df)\n",
    "}"
   ]
  },
  {
   "cell_type": "code",
   "execution_count": null,
   "metadata": {
    "vscode": {
     "languageId": "r"
    }
   },
   "outputs": [],
   "source": []
  }
 ],
 "metadata": {
  "kernelspec": {
   "display_name": "R",
   "language": "R",
   "name": "ir"
  },
  "language_info": {
   "codemirror_mode": "r",
   "file_extension": ".r",
   "mimetype": "text/x-r-source",
   "name": "R",
   "pygments_lexer": "r",
   "version": "4.2.2"
  }
 },
 "nbformat": 4,
 "nbformat_minor": 4
}
