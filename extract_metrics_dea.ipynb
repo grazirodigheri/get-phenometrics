{
 "cells": [
  {
   "cell_type": "markdown",
   "metadata": {},
   "source": [
    "# dea function"
   ]
  },
  {
   "cell_type": "code",
   "execution_count": 8,
   "metadata": {
    "vscode": {
     "languageId": "r"
    }
   },
   "outputs": [],
   "source": [
    "# # ------------------------------------------------------------\n",
    "# # Function for use DEA Tools Phenology\n",
    "\n",
    "# # Reticulate call python functions from R\n",
    "# library(\"reticulate\")\n",
    "\n",
    "# # Set python executable\n",
    "# # use_python(\"C:/Program Files/Python38/python.exe\")\n",
    "# use_python(\"/usr/bin/python3\")\n",
    "\n",
    "# # Set python source file\n",
    "# source_python(\"dt_phenology.py\")\n",
    "\n",
    "# # Function to compute phenology\n",
    "# extract_metrics_dtphenology <- function(serie, m_sos, m_eos) {\n",
    "#     metrics <- dea_phenology(serie, m_sos, m_eos)\n",
    "    \n",
    "#     if (is.null(metrics)) {\n",
    "#         metrics_df <- data.frame(\n",
    "#             SOS = as.integer(NA), \n",
    "#             EOS = as.integer(NA)\n",
    "#         )\n",
    "#     }\n",
    "#     else{\n",
    "#         # 'SOS','vSOS','POS','vPOS','EOS','vEOS','Trough','LOS','AOS','ROG','ROS'\n",
    "#         metrics_df <- data.frame(\n",
    "#             SOS = as.integer(metrics[[1]]),\n",
    "#             EOS = as.integer(metrics[[5]])\n",
    "#         )\n",
    "#     }\n",
    "#     return (metrics_df)\n",
    "# }"
   ]
  },
  {
   "cell_type": "code",
   "execution_count": null,
   "metadata": {
    "vscode": {
     "languageId": "r"
    }
   },
   "outputs": [],
   "source": []
  }
 ],
 "metadata": {
  "kernelspec": {
   "display_name": "R",
   "language": "R",
   "name": "ir"
  },
  "language_info": {
   "codemirror_mode": "r",
   "file_extension": ".r",
   "mimetype": "text/x-r-source",
   "name": "R",
   "pygments_lexer": "r",
   "version": "4.2.2"
  }
 },
 "nbformat": 4,
 "nbformat_minor": 4
}
