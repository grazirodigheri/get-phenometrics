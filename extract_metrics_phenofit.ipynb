{
 "cells": [
  {
   "cell_type": "markdown",
   "metadata": {},
   "source": [
    "# phenofit function"
   ]
  },
  {
   "cell_type": "code",
   "execution_count": 5,
   "metadata": {
    "vscode": {
     "languageId": "r"
    }
   },
   "outputs": [
    {
     "name": "stderr",
     "output_type": "stream",
     "text": [
      "\n",
      "Attaching package: 'phenofit'\n",
      "\n",
      "\n",
      "The following object is masked from 'package:phenex':\n",
      "\n",
      "    date2doy\n",
      "\n",
      "\n"
     ]
    }
   ],
   "source": [
    "#\n",
    "# This function requires the \\CRANpkg{phenofit} package develope by Kong et al., (2022)\n",
    "# \n",
    "# remotes::install_github(\"eco-hydro/phenofit\")\n",
    "#\n",
    "# @title Get phenological metrics data using phenofit package\n",
    "# \n",
    "# # ------------------------------------------------------------\n",
    "# # PHENOFIT function\n",
    "\n",
    "# load the package\n",
    "library(\"phenofit\")\n",
    "\n",
    "# Define the function\n",
    "extract_metrics_phenofit_trs <- function(serie, method, T_sos, T_eos, plot=F){\n",
    "\n",
    "#     if(!requireNamespace(\"phenofit\", quietly = TRUE)){\n",
    "#     warning(\"The phenofit package is required for this function\")\n",
    "#     return(NULL)\n",
    "#     }\n",
    "    \n",
    "    time <- seq(1, length(serie), 1)\n",
    "    \n",
    "    if (method == \"deriv\"){\n",
    "        metrics <- phenofit::PhenoDeriv(\n",
    "            serie, \n",
    "            time, \n",
    "            der1=2, \n",
    "            smoothed.spline = FALSE, \n",
    "            IsPlot=plot)\n",
    "        metrics <- data.frame(t(metrics))[,c(\"sos\",\"eos\")]\n",
    "    }\n",
    "    \n",
    "    else if (method == \"trs\"){\n",
    "        \n",
    "    res1 <- phenofit::PhenoTrs(serie, time, IsPlot=plot, trs=T_sos)\n",
    "    sos <- res1[[1]]\n",
    "\n",
    "    res2 <- phenofit::PhenoTrs(serie, time, IsPlot=plot, trs=T_eos)\n",
    "    eos <- res2[[2]]\n",
    "    \n",
    "    metrics <- data.frame(sos=sos, eos=eos)\n",
    "    }\n",
    "    \n",
    "    else{\n",
    "        print(\"INCORRECT METHOD\")\n",
    "    }\n",
    "  \n",
    "    return(metrics)\n",
    "}"
   ]
  },
  {
   "cell_type": "code",
   "execution_count": null,
   "metadata": {
    "vscode": {
     "languageId": "r"
    }
   },
   "outputs": [],
   "source": []
  }
 ],
 "metadata": {
  "kernelspec": {
   "display_name": "R",
   "language": "R",
   "name": "ir"
  },
  "language_info": {
   "codemirror_mode": "r",
   "file_extension": ".r",
   "mimetype": "text/x-r-source",
   "name": "R",
   "pygments_lexer": "r",
   "version": "4.2.2"
  }
 },
 "nbformat": 4,
 "nbformat_minor": 4
}
